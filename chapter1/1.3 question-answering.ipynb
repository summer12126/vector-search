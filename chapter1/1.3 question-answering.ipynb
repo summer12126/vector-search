{
  "cells": [
    {
      "cell_type": "markdown",
      "metadata": {},
      "source": [
        "# QnA\n",
        "hugging face transformer\n"
      ]
    },
    {
      "cell_type": "code",
      "execution_count": null,
      "metadata": {},
      "outputs": [],
      "source": [
        "\n",
        "\n",
        "# !pip install transformers\n",
        "\n",
        "from transformers import pipeline\n",
        "\n",
        "# 1 QA model \n",
        "model = pipeline(\"question-answering\", model=\"distilbert-base-cased-distilled-squad\", tokenizer=\"distilbert-base-cased\")\n",
        "\n",
        "# 2 Question and context\n",
        "question = \"What is the capital city of Korea?\"\n",
        "context = \"South Korea is located in East Asia on the southern part of the Korean Peninsula, bordered by North Korea and surrounded by the Yellow Sea and the East Sea. Its capital is Seoul, and the official language is Korean.\"\n",
        "\n",
        "# 3 Asking \n",
        "result = model(question=question, context=context)\n",
        "\n",
        "# 4 Answer\n",
        "print(f\"Answer: {result['answer']}\")\n",
        "     "
      ]
    }
  ],
  "metadata": {
    "colab": {
      "provenance": []
    },
    "kernelspec": {
      "display_name": "jupyter",
      "language": "python",
      "name": "python3"
    },
    "language_info": {
      "codemirror_mode": {
        "name": "ipython",
        "version": 3
      },
      "file_extension": ".py",
      "mimetype": "text/x-python",
      "name": "python",
      "nbconvert_exporter": "python",
      "pygments_lexer": "ipython3",
      "version": "3.11.11"
    },
    "orig_nbformat": 4
  },
  "nbformat": 4,
  "nbformat_minor": 0
}
