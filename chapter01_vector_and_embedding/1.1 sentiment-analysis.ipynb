{
 "cells": [
  {
   "cell_type": "markdown",
   "metadata": {},
   "source": [
    "# Sentiment classifier\n",
    "- Aims to identify and extract sentiment from unstructured text from a sentiment perspective\n",
    "- Commonly used by social networks, such as to extract sentiment from tweets\n",
    "- Used by companies and organisations to understand the sentiment associated with their brand\n",
    "    (e.g.Analysing real-time product reviews, Monitoring market sentiment for new investments)\n",
    "\n",
    "\n",
    "## score standards\n",
    "'neg': Represents the negative sentiment score (0.0 means no negative sentiment detected)\n",
    "\n",
    "'neu': Represents the neutral sentiment score (0.513 or 51.3% of the text is considered neutral)\n",
    "\n",
    "'pos': Represents the positive sentiment score (0.487 or 48.7% of the text is considered positive)\n",
    "\n",
    "'compound': A normalized score between -1 (most extreme negative) and +1 (most extreme positive). Here, 0.7184 indicates a fairly strong positive sentiment."
   ]
  },
  {
   "cell_type": "code",
   "execution_count": 12,
   "metadata": {},
   "outputs": [
    {
     "name": "stderr",
     "output_type": "stream",
     "text": [
      "[nltk_data] Downloading package vader_lexicon to\n",
      "[nltk_data]     /Users/summerlee/nltk_data...\n",
      "[nltk_data]   Package vader_lexicon is already up-to-date!\n"
     ]
    }
   ],
   "source": [
    "# !pip install vaderSentiment nltk\n",
    "\n",
    "import nltk\n",
    "nltk.download('vader_lexicon')\n",
    "\n",
    "from nltk.sentiment import SentimentIntensityAnalyzer \n"
   ]
  },
  {
   "cell_type": "code",
   "execution_count": 13,
   "metadata": {},
   "outputs": [
    {
     "name": "stdout",
     "output_type": "stream",
     "text": [
      "{'neg': 0.0, 'neu': 0.522, 'pos': 0.478, 'compound': 0.8777}\n"
     ]
    }
   ],
   "source": [
    "sia = SentimentIntensityAnalyzer() \n",
    "\n",
    "text = \"I really enjoyed the new movie. The acting was great and the plot was engaging.\" \n",
    "scores = sia.polarity_scores(text) \n",
    "print(scores) "
   ]
  },
  {
   "cell_type": "code",
   "execution_count": null,
   "metadata": {},
   "outputs": [
    {
     "name": "stdout",
     "output_type": "stream",
     "text": [
      "{'neg': 0.166, 'neu': 0.69, 'pos': 0.144, 'compound': -0.101}\n"
     ]
    }
   ],
   "source": [
    "\n",
    "text2 = \"I was really annoyed with the new movie. How could director make it like this.\" \n",
    "scores2 = sia.polarity_scores(text2) \n",
    "print(scores2)     "
   ]
  }
 ],
 "metadata": {
  "kernelspec": {
   "display_name": "jupyter",
   "language": "python",
   "name": "python3"
  },
  "language_info": {
   "codemirror_mode": {
    "name": "ipython",
    "version": 3
   },
   "file_extension": ".py",
   "mimetype": "text/x-python",
   "name": "python",
   "nbconvert_exporter": "python",
   "pygments_lexer": "ipython3",
   "version": "3.11.11"
  },
  "orig_nbformat": 4
 },
 "nbformat": 4,
 "nbformat_minor": 2
}
