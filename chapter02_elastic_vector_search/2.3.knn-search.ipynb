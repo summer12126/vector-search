{
 "cells": [
  {
   "cell_type": "markdown",
   "metadata": {},
   "source": [
    "# Elastic Cloud  \n",
    "- [Elastic Cloud] https://cloud.elastic.co\n",
    "- [Elastic Cloud Developments]https://cloud.elastic.co/developments\n",
    "\n",
    "## Hidden Units  \n",
    "- Each unit contains **weights** and **bias terms** that are updated during training.  \n",
    "- These values determine how hidden units process inputs and generate outputs.  \n",
    "- The number of hidden units is a **hyperparameter** that significantly impacts network performance.  \n",
    "- **NLP Use Case**:  \n",
    "  - A higher number of hidden units is beneficial as the network can learn more complex representations of input data.  \n",
    "  - However, this increases computational costs for training and evaluation."
   ]
  },
  {
   "cell_type": "code",
   "execution_count": 20,
   "metadata": {},
   "outputs": [
    {
     "name": "stderr",
     "output_type": "stream",
     "text": [
      "/var/folders/0h/6t5rrrkd413d6v0z43zmchmm0000gn/T/ipykernel_69065/3401737187.py:9: DeprecationWarning: The 'http_auth' parameter is deprecated. Use 'basic_auth' or 'bearer_auth' parameters instead\n",
      "  es = Elasticsearch(\n"
     ]
    }
   ],
   "source": [
    "# !pip install transformers elasticsearch \n",
    "\n",
    "import numpy as np \n",
    "from transformers import AutoTokenizer, AutoModel \n",
    "from elasticsearch import Elasticsearch \n",
    "import torch \n",
    "\n",
    "# 인증정보를 사용해 일래스틱서치 접속 정보 정의\n",
    "es = Elasticsearch(\n",
    "    ['https://ea9fe54e452f481793fff7cbe9f3a720.us-central1.gcp.cloud.es.io:443'],\n",
    "    http_auth=('elastic', 'Hg89Dmhkcmv9i5IP7FnPOCUm'),\n",
    "    verify_certs=False\n",
    ")\n",
    " "
   ]
  },
  {
   "cell_type": "code",
   "execution_count": null,
   "metadata": {},
   "outputs": [],
   "source": [
    "# 데이터를 저장할 인덱스의 매핑 정의\n",
    "mapping = { \n",
    "    'properties': { \n",
    "        'embedding': { \n",
    "            'type': 'dense_vector', \n",
    "            'dims': 768, # Ddense vector field의 차원을 정의합니다. \n",
    "            'index': 'true',\n",
    "            \"similarity\": \"cosine\"\n",
    "        } \n",
    "    } \n",
    "} \n",
    "\n",
    "# 정의한 매핑으로 인덱스 생성\n",
    "es.indices.create(index='jokes-index', body={'mappings': mapping}) \n"
   ]
  },
  {
   "cell_type": "code",
   "execution_count": 22,
   "metadata": {},
   "outputs": [],
   "source": [
    "# 색인 할 유머 데이터 세트 구성\n",
    "jokes = [ \n",
    "    { \n",
    "        'text': 'Why do cats make terrible storytellers? Because they only have one tail.', \n",
    "        'category': 'cat' \n",
    "    }, \n",
    "    { \n",
    "        'text': 'What did the cat say when he lost all his money? I am paw.', \n",
    "        'category': 'cat' \n",
    "    }, \n",
    "    { \n",
    "        'text': 'Why don\\'t cats play poker in the jungle? Too many cheetahs.', \n",
    "        'category': 'cat' \n",
    "    },\n",
    "    { \n",
    "        'text': 'Why did the tomato turn red? Because it saw the salad dressing!', \n",
    "        'category': 'vegetable' \n",
    "    },\n",
    "    { \n",
    "        'text': 'Why did the scarecrow win an award? Because he was outstanding in his field.', \n",
    "        'category': 'farm' \n",
    "    },\n",
    "    { \n",
    "        'text': 'Why did the hipster burn his tongue? Because he drank his coffee before it was cool.', \n",
    "        'category': 'hipster' \n",
    "    },    \n",
    "    {\n",
    "        'text': 'Why did the tomato turn red? Because it saw the salad dressing!', \n",
    "        'category': 'food' \n",
    "    },\n",
    "    {\n",
    "        'text': 'Why did the scarecrow win an award? Because he was out-standing in his field!', \n",
    "        'category': 'puns' \n",
    "    },\n",
    "    {\n",
    "        'text': 'What do you call a fake noodle? An impasta!', \n",
    "        'category': 'food' \n",
    "    },\n",
    "    {\n",
    "        'text': 'What do you call a belt made out of watches? A waist of time!', \n",
    "        'category': 'puns' \n",
    "    },\n",
    "    {\n",
    "        'text': 'Why did the math book look sad? Because it had too many problems!', \n",
    "        'category': 'math' \n",
    "    },\n",
    "    {\n",
    "        'text': 'Why did the gym close down? It just didn\\'t work out!', \n",
    "        'category': 'exercise' \n",
    "    },\n",
    "    {\n",
    "        'text': 'Why don\\'t scientists trust atoms? Because they make up everything!', \n",
    "        'category': 'science' \n",
    "    },\n",
    "    {\n",
    "        'text': 'What do you call a fake noodle? An impasta!', \n",
    "        'category': 'food' \n",
    "    },\n",
    "    {\n",
    "        'text': 'Why did the chicken cross the playground? To get to the other slide!', \n",
    "        'category': 'kids' \n",
    "    },\n",
    "    {\n",
    "        'text': 'Why did the frog call his insurance company? He had a jump in his car!', \n",
    "        'category': 'puns' \n",
    "    }\n",
    "\n",
    "] "
   ]
  },
  {
   "cell_type": "code",
   "execution_count": 23,
   "metadata": {},
   "outputs": [],
   "source": [
    "# BERT 토크나이저 및 모델 로드\n",
    "# 'bert-base-uncased' 사전 훈련된 모델을 사용하여 토큰화 및 임베딩 생성\n",
    "# 'uncased'는 대소문자를 구별하지 않음을 의미함\n",
    "tokenizer = AutoTokenizer.from_pretrained('bert-base-uncased') \n",
    "model = AutoModel.from_pretrained('bert-base-uncased') \n",
    "\n",
    "# BERT를 활용하여 유머 데이터에 대한 임베딩 생성\n",
    "for joke in jokes:  # jokes 리스트의 각 유머(joke) 데이터에 대해 반복\n",
    "    text = joke['text']  # 유머 텍스트 추출\n",
    "    \n",
    "    # 텍스트를 토큰화하고 텐서 형태로 변환\n",
    "    # padding=True: 입력 길이를 맞춤\n",
    "    # truncation=True: 최대 길이를 초과하는 경우 자름\n",
    "    inputs = tokenizer(text, return_tensors='pt', padding=True, truncation=True) \n",
    "    \n",
    "    # 모델을 통해 임베딩 생성 (그래디언트 계산 비활성화로 메모리 절약)\n",
    "    with torch.no_grad(): \n",
    "        output = model(**inputs).last_hidden_state.mean(dim=1).squeeze(0).numpy()  # 평균 풀링 적용\n",
    "        \n",
    "        # 생성된 임베딩을 리스트 형태로 저장\n",
    "        joke['embedding'] = output.tolist()\n"
   ]
  },
  {
   "cell_type": "code",
   "execution_count": null,
   "metadata": {},
   "outputs": [],
   "source": [
    "# 일래스틱서치에 유머 데이터 색인\n",
    "for joke in jokes: \n",
    "    es.index(index='jokes-index', body=joke) \n",
    "\n",
    "# 질의 벡터 생성\n",
    "# 질의 텍스트를 정의하고 BERT를 활용해 질의 텍스트를 벡터로 변환\n",
    "query = \"What do you get when you cross a snowman and a shark?\"\n",
    "inputs = tokenizer(query, return_tensors='pt', padding=True, truncation=True)\n",
    "with torch.no_grad():\n",
    "    output = model(**inputs).last_hidden_state.mean(dim=1).squeeze(0).numpy()\n",
    "query_vector = output\n",
    "\n"
   ]
  },
  {
   "cell_type": "code",
   "execution_count": 25,
   "metadata": {},
   "outputs": [
    {
     "name": "stderr",
     "output_type": "stream",
     "text": [
      "/Users/summerlee/.pyenv/versions/3.11.11/envs/jupyter/lib/python3.11/site-packages/urllib3/connectionpool.py:1097: InsecureRequestWarning: Unverified HTTPS request is being made to host 'ea9fe54e452f481793fff7cbe9f3a720.us-central1.gcp.cloud.es.io'. Adding certificate verification is strongly advised. See: https://urllib3.readthedocs.io/en/latest/advanced-usage.html#tls-warnings\n",
      "  warnings.warn(\n"
     ]
    },
    {
     "name": "stdout",
     "output_type": "stream",
     "text": [
      "Joke: What did the cat say when he lost all his money? I am paw.\n",
      "Joke: What do you call a fake noodle? An impasta!\n",
      "Joke: What do you call a fake noodle? An impasta!\n"
     ]
    }
   ],
   "source": [
    "# 일래스틱서치 kNN 검색 쿼리 정의\n",
    "search = {\n",
    "    \"knn\": {\n",
    "        \"field\": \"embedding\",\n",
    "        \"query_vector\": query_vector.tolist(),\n",
    "        \"k\": 3,\n",
    "        \"num_candidates\": 100\n",
    "    },\n",
    "    \"fields\": [ \"text\" ]\n",
    "}\n",
    "\n",
    "# kNN 검색 수행 및 결과 출력\n",
    "response = es.search(index='jokes-index', body=search)\n",
    "for hit in response['hits']['hits']:\n",
    "    print(f\"Joke: {hit['_source']['text']}\")"
   ]
  },
  {
   "cell_type": "code",
   "execution_count": null,
   "metadata": {},
   "outputs": [],
   "source": []
  }
 ],
 "metadata": {
  "kernelspec": {
   "display_name": "jupyter",
   "language": "python",
   "name": "python3"
  },
  "language_info": {
   "codemirror_mode": {
    "name": "ipython",
    "version": 3
   },
   "file_extension": ".py",
   "mimetype": "text/x-python",
   "name": "python",
   "nbconvert_exporter": "python",
   "pygments_lexer": "ipython3",
   "version": "3.11.11"
  },
  "orig_nbformat": 4
 },
 "nbformat": 4,
 "nbformat_minor": 2
}
