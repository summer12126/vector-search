{
 "cells": [
  {
   "cell_type": "markdown",
   "metadata": {},
   "source": [
    "# 출력으로 거리계산 결과를 표시\n",
    "특정 상황에서 어떤 거리 측정 방법을 사용하는 것이 좋을지에 대한 관점을 제공\n"
   ]
  },
  {
   "cell_type": "code",
   "execution_count": 4,
   "metadata": {},
   "outputs": [],
   "source": [
    "# spaCy 설치, 'en_core_web_md' 모델을 다운로드\n",
    "# !pip install spacy\n",
    "# !python -m spacy download en_core_web_md\n"
   ]
  },
  {
   "cell_type": "code",
   "execution_count": 5,
   "metadata": {},
   "outputs": [],
   "source": [
    "\n",
    "# 라이브러리 가져오기\n",
    "import spacy\n",
    "import numpy as np\n",
    "from scipy.spatial.distance import cosine, euclidean\n",
    "\n",
    "# 사전 학습된 단어 임베딩 모델 로드\n",
    "nlp = spacy.load('en_core_web_md')\n"
   ]
  },
  {
   "cell_type": "markdown",
   "metadata": {},
   "source": [
    "text_a and text_b vector 각도 작을 가능성 높음\n",
    "text_a 와 text_c 는 벡터 각도 클 가능성 높음 \n",
    "\n",
    "벡터의 크기 = 벡터 공간에서 텍스트 가중치를 나타냄\n",
    "크기는 텍스트 단어빈도 또는 데이터 세트에서 텍스트 중요도와 관련 가능\n",
    "벡터크기는 텍스트 길이나 시맨틱 유사성을 나타낼 수 있는 특정 단어 존재 여부와 같은 것들에 의해 영향을 받을 수 있음"
   ]
  },
  {
   "cell_type": "code",
   "execution_count": 6,
   "metadata": {},
   "outputs": [
    {
     "name": "stdout",
     "output_type": "stream",
     "text": [
      "Cosine similarity between Text A and Text B: 0.90\n",
      "Cosine similarity between Text A and Text C: 0.76\n",
      "Cosine similarity between Text D and Text E: 0.91\n",
      "Euclidean distance between Text A and Text B: 1.79\n",
      "Euclidean distance between Text A and Text C: 2.91\n",
      "Euclidean distance between Text D and Text E: 1.75\n",
      "Magnitude of Text D's vector: 3.91\n",
      "Magnitude of Text E's vector: 4.27\n"
     ]
    }
   ],
   "source": [
    "\n",
    "# 텍스트 정의\n",
    "text_a = \"The cat is playing with a toy.\"\n",
    "text_b = \"A kitten is interacting with a plaything.\"\n",
    "text_c = \"The chef is cooking a delicious meal.\"\n",
    "text_d = \"Economics is the social science that studies the production, distribution, and consumption of goods and services.\"\n",
    "text_e = \"Economics studies goods and services.\"\n",
    "\n",
    "# spaCy 모델을 사용해 텍스트를 벡터 표현으로 변환\n",
    "vector_a = nlp(text_a).vector\n",
    "vector_b = nlp(text_b).vector\n",
    "vector_c = nlp(text_c).vector\n",
    "vector_d = nlp(text_d).vector\n",
    "vector_e = nlp(text_e).vector\n",
    "\n",
    "# 벡터 간 코사인 유사도 계산\n",
    "cosine_sim_ab = 1 - cosine(vector_a, vector_b)\n",
    "cosine_sim_ac = 1 - cosine(vector_a, vector_c)\n",
    "cosine_sim_de = 1 - cosine(vector_d, vector_e)\n",
    "\n",
    "print(f\"Cosine similarity between Text A and Text B: {cosine_sim_ab:.2f}\")\n",
    "print(f\"Cosine similarity between Text A and Text C: {cosine_sim_ac:.2f}\")\n",
    "print(f\"Cosine similarity between Text D and Text E: {cosine_sim_de:.2f}\")\n",
    "\n",
    "# 벡터 간 유클리드 거리 계산\n",
    "euclidean_dist_ab = euclidean(vector_a, vector_b)\n",
    "euclidean_dist_ac = euclidean(vector_a, vector_c)\n",
    "euclidean_dist_de = euclidean(vector_d, vector_e)\n",
    "\n",
    "print(f\"Euclidean distance between Text A and Text B: {euclidean_dist_ab:.2f}\")\n",
    "print(f\"Euclidean distance between Text A and Text C: {euclidean_dist_ac:.2f}\")\n",
    "print(f\"Euclidean distance between Text D and Text E: {euclidean_dist_de:.2f}\")\n",
    "\n",
    "# 벡터의 크기 계산\n",
    "magnitude_d = np.linalg.norm(vector_d)\n",
    "magnitude_e = np.linalg.norm(vector_e)\n",
    "\n",
    "print(f\"Magnitude of Text D's vector: {magnitude_d:.2f}\")\n",
    "print(f\"Magnitude of Text E's vector: {magnitude_e:.2f}\")\n"
   ]
  },
  {
   "cell_type": "code",
   "execution_count": null,
   "metadata": {},
   "outputs": [],
   "source": []
  }
 ],
 "metadata": {
  "kernelspec": {
   "display_name": "jupyter",
   "language": "python",
   "name": "python3"
  },
  "language_info": {
   "codemirror_mode": {
    "name": "ipython",
    "version": 3
   },
   "file_extension": ".py",
   "mimetype": "text/x-python",
   "name": "python",
   "nbconvert_exporter": "python",
   "pygments_lexer": "ipython3",
   "version": "3.11.11"
  },
  "orig_nbformat": 4
 },
 "nbformat": 4,
 "nbformat_minor": 2
}
