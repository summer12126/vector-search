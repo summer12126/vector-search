{
 "cells": [
  {
   "cell_type": "code",
   "execution_count": 1,
   "metadata": {},
   "outputs": [
    {
     "name": "stderr",
     "output_type": "stream",
     "text": [
      "/Users/summerlee/.pyenv/versions/3.11.11/envs/jupyter/lib/python3.11/site-packages/elasticsearch/_sync/client/__init__.py:403: SecurityWarning: Connecting to 'https://ea9fe54e452f481793fff7cbe9f3a720.us-central1.gcp.cloud.es.io:443' using TLS with verify_certs=False is insecure\n",
      "  _transport = transport_class(\n",
      "/var/folders/0h/6t5rrrkd413d6v0z43zmchmm0000gn/T/ipykernel_81809/3401737187.py:9: DeprecationWarning: The 'http_auth' parameter is deprecated. Use 'basic_auth' or 'bearer_auth' parameters instead\n",
      "  es = Elasticsearch(\n"
     ]
    }
   ],
   "source": [
    "# !pip install transformers elasticsearch \n",
    "\n",
    "import numpy as np \n",
    "from transformers import AutoTokenizer, AutoModel \n",
    "from elasticsearch import Elasticsearch \n",
    "import torch \n",
    "\n",
    "# 인증정보를 사용해 일래스틱서치 접속 정보 정의\n",
    "es = Elasticsearch(\n",
    "    ['https://ea9fe54e452f481793fff7cbe9f3a720.us-central1.gcp.cloud.es.io:443'],\n",
    "    http_auth=('elastic', 'Hg89Dmhkcmv9i5IP7FnPOCUm'),\n",
    "    verify_certs=False\n",
    ")\n",
    " "
   ]
  },
  {
   "cell_type": "code",
   "execution_count": 2,
   "metadata": {
    "pycharm": {
     "is_executing": true
    }
   },
   "outputs": [
    {
     "name": "stderr",
     "output_type": "stream",
     "text": [
      "/Users/summerlee/.pyenv/versions/3.11.11/envs/jupyter/lib/python3.11/site-packages/urllib3/connectionpool.py:1097: InsecureRequestWarning: Unverified HTTPS request is being made to host 'ea9fe54e452f481793fff7cbe9f3a720.us-central1.gcp.cloud.es.io'. Adding certificate verification is strongly advised. See: https://urllib3.readthedocs.io/en/latest/advanced-usage.html#tls-warnings\n",
      "  warnings.warn(\n"
     ]
    }
   ],
   "source": [
    "\n",
    "# dense vector 필드를 위한 매핑 정의\n",
    "mapping = {\n",
    "    'properties': {\n",
    "        'embedding': {\n",
    "            'type': 'dense_vector',\n",
    "            'dims': 768   # dense vector의 차원수\n",
    "        }\n",
    "    }\n",
    "}\n",
    "\n",
    "# 정의한 매핑으로 인덱스 생성\n",
    "es.indices.create(index='chapter-2', body={'mappings': mapping})\n",
    "\n",
    "# 색인 할 문서 데이터 세트 구성\n",
    "docs = [\n",
    "    {\n",
    "        'title': 'Document 1',\n",
    "        'text': 'This is the first document.'\n",
    "    },\n",
    "    {\n",
    "        'title': 'Document 2',\n",
    "        'text': 'This is the second document.'\n",
    "    },\n",
    "    {\n",
    "        'title': 'Document 3',\n",
    "        'text': 'This is the third document.'\n",
    "    }\n",
    "]\n",
    "\n",
    "\n"
   ]
  },
  {
   "cell_type": "code",
   "execution_count": 3,
   "metadata": {},
   "outputs": [
    {
     "name": "stderr",
     "output_type": "stream",
     "text": [
      "/Users/summerlee/.pyenv/versions/3.11.11/envs/jupyter/lib/python3.11/site-packages/urllib3/connectionpool.py:1097: InsecureRequestWarning: Unverified HTTPS request is being made to host 'ea9fe54e452f481793fff7cbe9f3a720.us-central1.gcp.cloud.es.io'. Adding certificate verification is strongly advised. See: https://urllib3.readthedocs.io/en/latest/advanced-usage.html#tls-warnings\n",
      "  warnings.warn(\n",
      "/Users/summerlee/.pyenv/versions/3.11.11/envs/jupyter/lib/python3.11/site-packages/urllib3/connectionpool.py:1097: InsecureRequestWarning: Unverified HTTPS request is being made to host 'ea9fe54e452f481793fff7cbe9f3a720.us-central1.gcp.cloud.es.io'. Adding certificate verification is strongly advised. See: https://urllib3.readthedocs.io/en/latest/advanced-usage.html#tls-warnings\n",
      "  warnings.warn(\n",
      "/Users/summerlee/.pyenv/versions/3.11.11/envs/jupyter/lib/python3.11/site-packages/urllib3/connectionpool.py:1097: InsecureRequestWarning: Unverified HTTPS request is being made to host 'ea9fe54e452f481793fff7cbe9f3a720.us-central1.gcp.cloud.es.io'. Adding certificate verification is strongly advised. See: https://urllib3.readthedocs.io/en/latest/advanced-usage.html#tls-warnings\n",
      "  warnings.warn(\n"
     ]
    }
   ],
   "source": [
    "# BERT 토크나이저와 모델 로드\n",
    "tokenizer = AutoTokenizer.from_pretrained('bert-base-uncased')\n",
    "model = AutoModel.from_pretrained('bert-base-uncased')\n",
    "\n",
    "# BERT를 활용하여 각 문서의 임베딩 생성\n",
    "for doc in docs:\n",
    "    text = doc['text']\n",
    "    inputs = tokenizer(text, return_tensors='pt', padding=True, truncation=True)\n",
    "    with torch.no_grad():\n",
    "        output = model(**inputs).last_hidden_state.mean(dim=1).squeeze(0).numpy()\n",
    "    doc['embedding'] = output.tolist()\n",
    "\n",
    "# 일래스틱서치에 문서 색인\n",
    "for doc in docs:\n",
    "    es.index(index='chapter-2', body=doc)"
   ]
  },
  {
   "cell_type": "code",
   "execution_count": null,
   "metadata": {},
   "outputs": [],
   "source": []
  }
 ],
 "metadata": {
  "kernelspec": {
   "display_name": "jupyter",
   "language": "python",
   "name": "python3"
  },
  "language_info": {
   "codemirror_mode": {
    "name": "ipython",
    "version": 3
   },
   "file_extension": ".py",
   "mimetype": "text/x-python",
   "name": "python",
   "nbconvert_exporter": "python",
   "pygments_lexer": "ipython3",
   "version": "3.11.11"
  },
  "orig_nbformat": 4
 },
 "nbformat": 4,
 "nbformat_minor": 2
}
